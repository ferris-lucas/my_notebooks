{
  "nbformat": 4,
  "nbformat_minor": 0,
  "metadata": {
    "colab": {
      "name": "Untitled2.ipynb",
      "provenance": [],
      "authorship_tag": "ABX9TyPN72yXmtjdWyyuqLk66ocu",
      "include_colab_link": true
    },
    "kernelspec": {
      "name": "python3",
      "display_name": "Python 3"
    }
  },
  "cells": [
    {
      "cell_type": "markdown",
      "metadata": {
        "id": "view-in-github",
        "colab_type": "text"
      },
      "source": [
        "<a href=\"https://colab.research.google.com/github/ferris77/my_notebooks/blob/main/python_tinyML/04-convolutions.ipynb\" target=\"_parent\"><img src=\"https://colab.research.google.com/assets/colab-badge.svg\" alt=\"Open In Colab\"/></a>"
      ]
    },
    {
      "cell_type": "markdown",
      "metadata": {
        "id": "w3qLFpIxiui7"
      },
      "source": [
        "Vamos usar o dataset MNIST para visualizar melhor os filtros e pooling"
      ]
    },
    {
      "cell_type": "code",
      "metadata": {
        "colab": {
          "base_uri": "https://localhost:8080/"
        },
        "id": "JB1pGV2xiuGi",
        "outputId": "07652546-5418-473f-9c21-64b7bcea5c0e"
      },
      "source": [
        "import tensorflow as tf\n",
        "mnist = tf.keras.datasets.fashion_mnist\n",
        "(training_images, training_labels), (val_images, val_labels) = mnist.load_data()\n",
        "training_images=training_images.reshape(60000, 28, 28, 1)\n",
        "training_images=training_images / 255.0\n",
        "val_images=val_images.reshape(10000, 28, 28, 1)\n",
        "val_images=val_images/255.0\n",
        "model = tf.keras.models.Sequential([\n",
        "  tf.keras.layers.Conv2D(64, (3,3), activation='relu', input_shape=(28, 28, 1)),\n",
        "  tf.keras.layers.MaxPooling2D(2, 2),\n",
        "  tf.keras.layers.Conv2D(64, (3,3), activation='relu'),\n",
        "  tf.keras.layers.MaxPooling2D(2,2),\n",
        "  tf.keras.layers.Flatten(),\n",
        "  tf.keras.layers.Dense(20, activation='relu'),\n",
        "  tf.keras.layers.Dense(10, activation='softmax')\n",
        "])\n",
        "model.compile(optimizer='adam', loss='sparse_categorical_crossentropy', metrics=['accuracy'])\n",
        "model.summary()\n",
        "model.fit(training_images, training_labels, validation_data=(val_images, val_labels), epochs=20)"
      ],
      "execution_count": 1,
      "outputs": [
        {
          "output_type": "stream",
          "text": [
            "Downloading data from https://storage.googleapis.com/tensorflow/tf-keras-datasets/train-labels-idx1-ubyte.gz\n",
            "32768/29515 [=================================] - 0s 0us/step\n",
            "Downloading data from https://storage.googleapis.com/tensorflow/tf-keras-datasets/train-images-idx3-ubyte.gz\n",
            "26427392/26421880 [==============================] - 0s 0us/step\n",
            "Downloading data from https://storage.googleapis.com/tensorflow/tf-keras-datasets/t10k-labels-idx1-ubyte.gz\n",
            "8192/5148 [===============================================] - 0s 0us/step\n",
            "Downloading data from https://storage.googleapis.com/tensorflow/tf-keras-datasets/t10k-images-idx3-ubyte.gz\n",
            "4423680/4422102 [==============================] - 0s 0us/step\n",
            "Model: \"sequential\"\n",
            "_________________________________________________________________\n",
            "Layer (type)                 Output Shape              Param #   \n",
            "=================================================================\n",
            "conv2d (Conv2D)              (None, 26, 26, 64)        640       \n",
            "_________________________________________________________________\n",
            "max_pooling2d (MaxPooling2D) (None, 13, 13, 64)        0         \n",
            "_________________________________________________________________\n",
            "conv2d_1 (Conv2D)            (None, 11, 11, 64)        36928     \n",
            "_________________________________________________________________\n",
            "max_pooling2d_1 (MaxPooling2 (None, 5, 5, 64)          0         \n",
            "_________________________________________________________________\n",
            "flatten (Flatten)            (None, 1600)              0         \n",
            "_________________________________________________________________\n",
            "dense (Dense)                (None, 20)                32020     \n",
            "_________________________________________________________________\n",
            "dense_1 (Dense)              (None, 10)                210       \n",
            "=================================================================\n",
            "Total params: 69,798\n",
            "Trainable params: 69,798\n",
            "Non-trainable params: 0\n",
            "_________________________________________________________________\n",
            "Epoch 1/20\n",
            "1875/1875 [==============================] - 77s 41ms/step - loss: 0.7462 - accuracy: 0.7381 - val_loss: 0.3923 - val_accuracy: 0.8611\n",
            "Epoch 2/20\n",
            "1875/1875 [==============================] - 76s 40ms/step - loss: 0.3456 - accuracy: 0.8764 - val_loss: 0.3450 - val_accuracy: 0.8802\n",
            "Epoch 3/20\n",
            "1875/1875 [==============================] - 75s 40ms/step - loss: 0.2866 - accuracy: 0.8965 - val_loss: 0.3237 - val_accuracy: 0.8854\n",
            "Epoch 4/20\n",
            "1875/1875 [==============================] - 75s 40ms/step - loss: 0.2545 - accuracy: 0.9075 - val_loss: 0.2833 - val_accuracy: 0.8973\n",
            "Epoch 5/20\n",
            "1875/1875 [==============================] - 75s 40ms/step - loss: 0.2343 - accuracy: 0.9136 - val_loss: 0.2729 - val_accuracy: 0.9010\n",
            "Epoch 6/20\n",
            "1875/1875 [==============================] - 75s 40ms/step - loss: 0.2128 - accuracy: 0.9223 - val_loss: 0.2657 - val_accuracy: 0.9058\n",
            "Epoch 7/20\n",
            "1875/1875 [==============================] - 75s 40ms/step - loss: 0.1972 - accuracy: 0.9276 - val_loss: 0.2677 - val_accuracy: 0.9069\n",
            "Epoch 8/20\n",
            "1875/1875 [==============================] - 75s 40ms/step - loss: 0.1802 - accuracy: 0.9346 - val_loss: 0.2607 - val_accuracy: 0.9089\n",
            "Epoch 9/20\n",
            "1875/1875 [==============================] - 75s 40ms/step - loss: 0.1744 - accuracy: 0.9362 - val_loss: 0.2677 - val_accuracy: 0.9044\n",
            "Epoch 10/20\n",
            "1875/1875 [==============================] - 75s 40ms/step - loss: 0.1566 - accuracy: 0.9423 - val_loss: 0.3024 - val_accuracy: 0.8951\n",
            "Epoch 11/20\n",
            "1875/1875 [==============================] - 75s 40ms/step - loss: 0.1508 - accuracy: 0.9444 - val_loss: 0.2975 - val_accuracy: 0.8993\n",
            "Epoch 12/20\n",
            "1875/1875 [==============================] - 75s 40ms/step - loss: 0.1397 - accuracy: 0.9493 - val_loss: 0.2824 - val_accuracy: 0.9078\n",
            "Epoch 13/20\n",
            "1875/1875 [==============================] - 75s 40ms/step - loss: 0.1354 - accuracy: 0.9492 - val_loss: 0.2943 - val_accuracy: 0.9056\n",
            "Epoch 14/20\n",
            "1875/1875 [==============================] - 75s 40ms/step - loss: 0.1279 - accuracy: 0.9525 - val_loss: 0.2802 - val_accuracy: 0.9098\n",
            "Epoch 15/20\n",
            "1875/1875 [==============================] - 75s 40ms/step - loss: 0.1167 - accuracy: 0.9576 - val_loss: 0.3091 - val_accuracy: 0.9070\n",
            "Epoch 16/20\n",
            "1875/1875 [==============================] - 75s 40ms/step - loss: 0.1133 - accuracy: 0.9577 - val_loss: 0.3096 - val_accuracy: 0.9040\n",
            "Epoch 17/20\n",
            "1875/1875 [==============================] - 75s 40ms/step - loss: 0.0992 - accuracy: 0.9637 - val_loss: 0.3543 - val_accuracy: 0.8975\n",
            "Epoch 18/20\n",
            "1875/1875 [==============================] - 75s 40ms/step - loss: 0.0934 - accuracy: 0.9655 - val_loss: 0.3368 - val_accuracy: 0.9037\n",
            "Epoch 19/20\n",
            "1875/1875 [==============================] - 75s 40ms/step - loss: 0.0906 - accuracy: 0.9666 - val_loss: 0.3408 - val_accuracy: 0.9033\n",
            "Epoch 20/20\n",
            "1875/1875 [==============================] - 75s 40ms/step - loss: 0.0870 - accuracy: 0.9670 - val_loss: 0.3448 - val_accuracy: 0.9066\n"
          ],
          "name": "stdout"
        },
        {
          "output_type": "execute_result",
          "data": {
            "text/plain": [
              "<tensorflow.python.keras.callbacks.History at 0x7fef522b8090>"
            ]
          },
          "metadata": {
            "tags": []
          },
          "execution_count": 1
        }
      ]
    },
    {
      "cell_type": "markdown",
      "metadata": {
        "id": "4gWbkRbtjDo7"
      },
      "source": [
        "Abaixo, vamos imprimir o resultado da classificação (labels). Os itens que tem o mesmo valor foram classificados como pertencentes à mesma categoria. Por exemplo: item 9 é um sapato."
      ]
    },
    {
      "cell_type": "code",
      "metadata": {
        "colab": {
          "base_uri": "https://localhost:8080/"
        },
        "id": "0grHvyDHjQHt",
        "outputId": "81f8cd46-3b90-4022-9283-805d95da4de4"
      },
      "source": [
        "print(val_labels[:100])"
      ],
      "execution_count": 2,
      "outputs": [
        {
          "output_type": "stream",
          "text": [
            "[9 2 1 1 6 1 4 6 5 7 4 5 7 3 4 1 2 4 8 0 2 5 7 9 1 4 6 0 9 3 8 8 3 3 8 0 7\n",
            " 5 7 9 6 1 3 7 6 7 2 1 2 2 4 4 5 8 2 2 8 4 8 0 7 7 8 5 1 1 2 3 9 8 7 0 2 6\n",
            " 2 3 1 2 8 4 1 8 5 9 5 0 3 2 0 6 5 3 6 7 1 8 0 1 4 2]\n"
          ],
          "name": "stdout"
        }
      ]
    },
    {
      "cell_type": "code",
      "metadata": {
        "id": "vo7DS02ajVKC",
        "colab": {
          "base_uri": "https://localhost:8080/",
          "height": 1000
        },
        "outputId": "98370be8-dd61-48f5-dbf8-5f2e09335b86"
      },
      "source": [
        "import matplotlib.pyplot as plt\n",
        "def show_image(img):\n",
        "  plt.figure()\n",
        "  plt.imshow(val_images[img].reshape(28,28))\n",
        "  plt.grid(False)\n",
        "  plt.show()  \n",
        "\n",
        "f, axarr = plt.subplots(3,2)\n",
        "# By scanning the list above I saw that the 0, 23 and 28 entries are all label 9 \n",
        "FIRST_IMAGE=0\n",
        "SECOND_IMAGE=23\n",
        "THIRD_IMAGE=28\n",
        "\n",
        "# For shoes (0, 23, 28), Convolution_Number=1 (i.e. the second filter) shows\n",
        "# the sole being filtered out very clearly\n",
        "\n",
        "CONVOLUTION_NUMBER = 1\n",
        "from tensorflow.keras import models\n",
        "layer_outputs = [layer.output for layer in model.layers]\n",
        "activation_model = tf.keras.models.Model(inputs = model.input, outputs = layer_outputs)\n",
        "for x in range(0,2):\n",
        "  f1 = activation_model.predict(val_images[FIRST_IMAGE].reshape(1, 28, 28, 1))[x]\n",
        "  axarr[0,x].imshow(f1[0, : , :, CONVOLUTION_NUMBER], cmap='inferno')\n",
        "  axarr[0,x].grid(False)\n",
        "  f2 = activation_model.predict(val_images[SECOND_IMAGE].reshape(1, 28, 28, 1))[x]\n",
        "  axarr[1,x].imshow(f2[0, : , :, CONVOLUTION_NUMBER], cmap='inferno')\n",
        "  axarr[1,x].grid(False)\n",
        "  f3 = activation_model.predict(val_images[THIRD_IMAGE].reshape(1, 28, 28, 1))[x]\n",
        "  axarr[2,x].imshow(f3[0, : , :, CONVOLUTION_NUMBER], cmap='inferno')\n",
        "  axarr[2,x].grid(False)\n",
        "\n",
        "\n",
        "show_image(FIRST_IMAGE)\n",
        "show_image(SECOND_IMAGE)\n",
        "show_image(THIRD_IMAGE)"
      ],
      "execution_count": 3,
      "outputs": [
        {
          "output_type": "display_data",
          "data": {
            "image/png": "[encoded data removed]",
            "text/plain": [
              "<Figure size 432x288 with 6 Axes>"
            ]
          },
          "metadata": {
            "tags": [],
            "needs_background": "light"
          }
        },
        {
          "output_type": "display_data",
          "data": {
            "image/png": "[encoded data removed]",
            "text/plain": [
              "<Figure size 432x288 with 1 Axes>"
            ]
          },
          "metadata": {
            "tags": [],
            "needs_background": "light"
          }
        },
        {
          "output_type": "display_data",
          "data": {
            "image/png": "[encoded data removed]",
            "text/plain": [
              "<Figure size 432x288 with 1 Axes>"
            ]
          },
          "metadata": {
            "tags": [],
            "needs_background": "light"
          }
        },
        {
          "output_type": "display_data",
          "data": {
            "image/png": "[encoded data removed]",
            "text/plain": [
              "<Figure size 432x288 with 1 Axes>"
            ]
          },
          "metadata": {
            "tags": [],
            "needs_background": "light"
          }
        }
      ]
    }
  ]
}