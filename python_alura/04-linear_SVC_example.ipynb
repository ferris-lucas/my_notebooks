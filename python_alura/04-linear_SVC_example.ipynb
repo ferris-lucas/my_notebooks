{
  "nbformat": 4,
  "nbformat_minor": 0,
  "metadata": {
    "colab": {
      "name": "Linear SVC Example.ipynb",
      "provenance": [],
      "authorship_tag": "ABX9TyMwwJ1HqYy62EWhAtYlrCRh",
      "include_colab_link": true
    },
    "kernelspec": {
      "name": "python3",
      "display_name": "Python 3"
    }
  },
  "cells": [
    {
      "cell_type": "markdown",
      "metadata": {
        "id": "view-in-github",
        "colab_type": "text"
      },
      "source": [
        "<a href=\"https://colab.research.google.com/github/ferris77/my_notebooks/blob/main/python_alura/04-linear_SVC_example.ipynb\" target=\"_parent\"><img src=\"https://colab.research.google.com/assets/colab-badge.svg\" alt=\"Open In Colab\"/></a>"
      ]
    },
    {
      "cell_type": "markdown",
      "metadata": {
        "id": "3YOIUWo-ZPRo"
      },
      "source": [
        "Este notebook foi usado para estudo da aula referente a introdução ML da Alura.\n",
        "\n",
        "*   Aluno: Lucas Ferreira\n",
        "*   Data: Fev/2021\n",
        "\n"
      ]
    },
    {
      "cell_type": "code",
      "metadata": {
        "id": "uwe-ZTLK9ai3"
      },
      "source": [
        "import numpy as np\n",
        "import matplotlib.pyplot as plt\n",
        "from sklearn import svm\n",
        "from matplotlib import style\n",
        "style.use(\"ggplot\")"
      ],
      "execution_count": null,
      "outputs": []
    },
    {
      "cell_type": "code",
      "metadata": {
        "colab": {
          "base_uri": "https://localhost:8080/"
        },
        "id": "n-MJZ-3W-dHn",
        "outputId": "a2312942-fa48-41aa-8f62-e2581b93f887"
      },
      "source": [
        "x = [1, 5, 1.5, 8, 1, 9]\n",
        "x"
      ],
      "execution_count": null,
      "outputs": [
        {
          "output_type": "execute_result",
          "data": {
            "text/plain": [
              "[1, 5, 1.5, 8, 1, 9]"
            ]
          },
          "metadata": {
            "tags": []
          },
          "execution_count": 3
        }
      ]
    },
    {
      "cell_type": "code",
      "metadata": {
        "colab": {
          "base_uri": "https://localhost:8080/"
        },
        "id": "4NEUzHQ1-jz4",
        "outputId": "08779878-558c-4809-ba4d-b8d8f37bec07"
      },
      "source": [
        "y = [2, 8, 1.8, 8, 0.6, 11]\n",
        "y"
      ],
      "execution_count": null,
      "outputs": [
        {
          "output_type": "execute_result",
          "data": {
            "text/plain": [
              "[2, 8, 1.8, 8, 0.6, 11]"
            ]
          },
          "metadata": {
            "tags": []
          },
          "execution_count": 4
        }
      ]
    },
    {
      "cell_type": "code",
      "metadata": {
        "colab": {
          "base_uri": "https://localhost:8080/",
          "height": 265
        },
        "id": "4bdZrS0Z-oFO",
        "outputId": "b62c51d9-69ab-48ca-aa12-07dc261f0df3"
      },
      "source": [
        "plt.scatter(x,y)"
      ],
      "execution_count": null,
      "outputs": [
        {
          "output_type": "display_data",
          "data": {
            "image/png": "[encoded data removed]",
            "text/plain": [
              "<Figure size 432x288 with 1 Axes>"
            ]
          },
          "metadata": {
            "tags": [],
            "needs_background": "light"
          }
        }
      ]
    },
    {
      "cell_type": "code",
      "metadata": {
        "id": "piXNcfwY-qti"
      },
      "source": [
        "X = np.array([[1,2],\n",
        "    [5,8],\n",
        "    [1.5,1.8],\n",
        "    [8,8],\n",
        "    [1,0.6],\n",
        "    [9,11]\n",
        "    ])\n",
        "X"
      ],
      "execution_count": null,
      "outputs": []
    },
    {
      "cell_type": "code",
      "metadata": {
        "colab": {
          "base_uri": "https://localhost:8080/"
        },
        "id": "Brh3kWcJ_Jt9",
        "outputId": "2fd07218-9c36-4dbc-f618-34967b2e6844"
      },
      "source": [
        "Y = [0, 1, 0, 1, 0, 1]\n",
        "Y"
      ],
      "execution_count": null,
      "outputs": [
        {
          "output_type": "execute_result",
          "data": {
            "text/plain": [
              "[0, 1, 0, 1, 0, 1]"
            ]
          },
          "metadata": {
            "tags": []
          },
          "execution_count": 11
        }
      ]
    },
    {
      "cell_type": "code",
      "metadata": {
        "colab": {
          "base_uri": "https://localhost:8080/"
        },
        "id": "CnOzND5q_jSS",
        "outputId": "1e8e7a13-081a-450d-aa9f-233dc9b73060"
      },
      "source": [
        "clf = svm.SVC(kernel = 'linear', C = 1.0)\n",
        "clf.fit(X,Y)"
      ],
      "execution_count": null,
      "outputs": [
        {
          "output_type": "execute_result",
          "data": {
            "text/plain": [
              "SVC(C=1.0, break_ties=False, cache_size=200, class_weight=None, coef0=0.0,\n",
              "    decision_function_shape='ovr', degree=3, gamma='scale', kernel='linear',\n",
              "    max_iter=-1, probability=False, random_state=None, shrinking=True,\n",
              "    tol=0.001, verbose=False)"
            ]
          },
          "metadata": {
            "tags": []
          },
          "execution_count": 22
        }
      ]
    },
    {
      "cell_type": "code",
      "metadata": {
        "colab": {
          "base_uri": "https://localhost:8080/"
        },
        "id": "_Fvr9OVE_q0z",
        "outputId": "a636837c-668d-4b79-9622-3442636615fc"
      },
      "source": [
        "previsao = clf.predict([[1.58, 1.76]])\n",
        "print(f'Previsao é {previsao}')"
      ],
      "execution_count": null,
      "outputs": [
        {
          "output_type": "stream",
          "text": [
            "Previsao é [0]\n"
          ],
          "name": "stdout"
        }
      ]
    },
    {
      "cell_type": "code",
      "metadata": {
        "colab": {
          "base_uri": "https://localhost:8080/"
        },
        "id": "F1FH8ZjW_512",
        "outputId": "e12bd0ca-919f-44cb-eb25-5e5b5a370fe6"
      },
      "source": [
        "w = clf.coef_[0]\n",
        "print(w)"
      ],
      "execution_count": null,
      "outputs": [
        {
          "output_type": "stream",
          "text": [
            "[0.1380943  0.24462418]\n"
          ],
          "name": "stdout"
        }
      ]
    },
    {
      "cell_type": "code",
      "metadata": {
        "id": "3oHpaSAvA_s0"
      },
      "source": [
        "a = -w[0] / w[1]\n",
        "xx = np.linspace(0, 12)\n",
        "yy = a*xx-clf.intercept_[0] / w[1]"
      ],
      "execution_count": null,
      "outputs": []
    },
    {
      "cell_type": "code",
      "metadata": {
        "colab": {
          "base_uri": "https://localhost:8080/",
          "height": 282
        },
        "id": "eSymnQ51BXCq",
        "outputId": "45552b74-15ea-4f67-db8f-60b7ace36208"
      },
      "source": [
        "h0 = plt.plot(xx, yy, 'k-', label = \"non weighted div\")\n",
        "plt.scatter(X[:, 0], X[:, 1], c = y)"
      ],
      "execution_count": null,
      "outputs": [
        {
          "output_type": "execute_result",
          "data": {
            "text/plain": [
              "<matplotlib.collections.PathCollection at 0x7f2bff6822e8>"
            ]
          },
          "metadata": {
            "tags": []
          },
          "execution_count": 31
        },
        {
          "output_type": "display_data",
          "data": {
            "image/png": "[encoded data removed]",
            "text/plain": [
              "<Figure size 432x288 with 1 Axes>"
            ]
          },
          "metadata": {
            "tags": [],
            "needs_background": "light"
          }
        }
      ]
    }
  ]
}