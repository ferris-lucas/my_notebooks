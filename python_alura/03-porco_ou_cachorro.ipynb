{
  "nbformat": 4,
  "nbformat_minor": 0,
  "metadata": {
    "colab": {
      "name": "porco_ou_cachorro.ipynb",
      "provenance": [],
      "authorship_tag": "ABX9TyMHW5TitNwoY1g8SfJA/zcx",
      "include_colab_link": true
    },
    "kernelspec": {
      "name": "python3",
      "display_name": "Python 3"
    }
  },
  "cells": [
    {
      "cell_type": "markdown",
      "metadata": {
        "id": "view-in-github",
        "colab_type": "text"
      },
      "source": [
        "<a href=\"https://colab.research.google.com/github/ferris77/my_notebooks/blob/main/python_alura/porco_ou_cachorro.ipynb\" target=\"_parent\"><img src=\"https://colab.research.google.com/assets/colab-badge.svg\" alt=\"Open In Colab\"/></a>"
      ]
    },
    {
      "cell_type": "markdown",
      "metadata": {
        "id": "NKAnz7spD9dV"
      },
      "source": [
        "Notebook de estudo do curso de machine learning Alura, baseado no exercício Porco ou Cachorro da Alura.\n",
        "*   Aluno: Lucas Ferreira\n",
        "*   Data: Fev/2021"
      ]
    },
    {
      "cell_type": "code",
      "metadata": {
        "id": "oRR4z5_7D6v6"
      },
      "source": [
        "# vamos usar 3 features\n",
        "# pelo longo / perna curta / late\n",
        "# True para feature existente e False para inexistente\n",
        "porco1 = [0 , 1, 0] #pelo curto, perna curta, não late\n",
        "porco2 = [0 , 1, 1] #pelo curto, perna curta, late\n",
        "porco3 = [1 , 1, 0] #pelo longo, perna curta, não late\n",
        "\n",
        "cachorro1 = [0, 1, 1] #pelo curto, perna curta, late\n",
        "cachorro2 = [1, 0, 1] #pelo longo, perna longa, late\n",
        "cachorro3 = [1, 1, 1] #pelo longo, perna curta, late\n",
        "\n",
        "# nosso dataset será o conjunto dos porcos e cachorros\n",
        "# temos 2 classes (cachorro e porco), vamos indicar 1 para porco e 0 para cachorro (arbitrário)\n",
        "\n",
        "treino_x = [porco1, porco2, porco3, cachorro1, cachorro2, cachorro3]\n",
        "treino_y = [1, 1, 1, 0, 0, 0]"
      ],
      "execution_count": null,
      "outputs": []
    },
    {
      "cell_type": "code",
      "metadata": {
        "colab": {
          "base_uri": "https://localhost:8080/"
        },
        "id": "FsdnFX2GFchC",
        "outputId": "32fc6eda-46ba-46b4-ca0b-8f36cddb9978"
      },
      "source": [
        "#queremos uma função que dado uma sequência de três características, nos indique se é um porco ou cachorro\n",
        "#baseado nos dados que fornecemos como referência\n",
        "#vamos buscar um estimador no sklearn\n",
        "\n",
        "#vamos usar um estimador linear\n",
        "\n",
        "from sklearn.svm import LinearSVC\n",
        "\n",
        "model = LinearSVC() #instanciar o método\n",
        "model.fit(treino_x, treino_y) #adaptar o modelo Linear.SVC aos dados que temos"
      ],
      "execution_count": null,
      "outputs": [
        {
          "output_type": "execute_result",
          "data": {
            "text/plain": [
              "LinearSVC(C=1.0, class_weight=None, dual=True, fit_intercept=True,\n",
              "          intercept_scaling=1, loss='squared_hinge', max_iter=1000,\n",
              "          multi_class='ovr', penalty='l2', random_state=None, tol=0.0001,\n",
              "          verbose=0)"
            ]
          },
          "metadata": {
            "tags": []
          },
          "execution_count": 2
        }
      ]
    },
    {
      "cell_type": "code",
      "metadata": {
        "id": "D71C6bUMGLmC"
      },
      "source": [
        "animal_misterioso1 = [1, 1, 1] #tem pelo longo, perna curta, late -> cachorro3\n",
        "animal_misterioso2 = [1, 1, 0] #tem pelo longo, perna curta, não late -> porco3\n",
        "animal_misterioso3 = [0, 1, 1] #tem pelo curto, perna curta, late -> porco2 e cachorro1\n",
        "\n",
        "teste_x = [animal_misterioso1, animal_misterioso2, animal_misterioso3]\n",
        "teste_y = [0, 1, 1] #array para cálculo da acurácia do resultado das previsões"
      ],
      "execution_count": null,
      "outputs": []
    },
    {
      "cell_type": "code",
      "metadata": {
        "id": "AQi9KYVCRVrj"
      },
      "source": [
        "previsoes = model.predict(teste_x) #método predict espera um array, vamos converter o animal_misterioso para uma lista"
      ],
      "execution_count": null,
      "outputs": []
    },
    {
      "cell_type": "code",
      "metadata": {
        "colab": {
          "base_uri": "https://localhost:8080/"
        },
        "id": "M9_N8_gfGqk9",
        "outputId": "80c2a00e-c3b5-4bba-aa05-55505f450323"
      },
      "source": [
        "corretos = (previsoes == teste_y).sum()\n",
        "total = len(teste_x)\n",
        "taxa_de_acerto = corretos/total\n",
        "print(f\"Taxa de acerto: {taxa_de_acerto*100:.2f}\")"
      ],
      "execution_count": null,
      "outputs": [
        {
          "output_type": "stream",
          "text": [
            "Taxa de acerto: 66.67\n"
          ],
          "name": "stdout"
        }
      ]
    },
    {
      "cell_type": "code",
      "metadata": {
        "colab": {
          "base_uri": "https://localhost:8080/"
        },
        "id": "lFSUntOqHWK2",
        "outputId": "13fa290d-360f-4cec-a373-3a0d8245e17f"
      },
      "source": [
        "#existe função para medir a taxa de acerto mais facilmente\n",
        "\n",
        "from sklearn.metrics import accuracy_score\n",
        "\n",
        "taxa_de_acerto = accuracy_score(teste_y, previsoes)\n",
        "print(f\"Taxa de acerto: {taxa_de_acerto*100:.2f}\")"
      ],
      "execution_count": null,
      "outputs": [
        {
          "output_type": "stream",
          "text": [
            "Taxa de acerto: 66.67\n"
          ],
          "name": "stdout"
        }
      ]
    }
  ]
}
