{
  "nbformat": 4,
  "nbformat_minor": 0,
  "metadata": {
    "colab": {
      "name": "linear_regression_loss_function.ipynb",
      "provenance": [],
      "collapsed_sections": [],
      "include_colab_link": true
    },
    "kernelspec": {
      "name": "python3",
      "display_name": "Python 3"
    }
  },
  "cells": [
    {
      "cell_type": "markdown",
      "metadata": {
        "id": "view-in-github",
        "colab_type": "text"
      },
      "source": [
        "<a href=\"https://colab.research.google.com/github/ferris77/my_notebooks/blob/main/python_alura/01-linear_regression_loss_function.ipynb\" target=\"_parent\"><img src=\"https://colab.research.google.com/assets/colab-badge.svg\" alt=\"Open In Colab\"/></a>"
      ]
    },
    {
      "cell_type": "markdown",
      "metadata": {
        "id": "AVgFQmmeHpkW"
      },
      "source": [
        "Machine Learning envolve uma mudança de paradigma: Enviamos dados + respostas para o modelo e ele nos retorna a regra que leva os dados às respostas.\n",
        "Neste primeiro exemplo, vamos explorar a funcionalidade para buscar a regra (função) que leva os valores X em Y / f(x) = y\n",
        "*   Aluno: Lucas Ferreira\n",
        "*   Data: Fev/2021"
      ]
    },
    {
      "cell_type": "code",
      "metadata": {
        "id": "jhxrNMcLHizd"
      },
      "source": [
        "import math"
      ],
      "execution_count": 1,
      "outputs": []
    },
    {
      "cell_type": "code",
      "metadata": {
        "colab": {
          "base_uri": "https://localhost:8080/"
        },
        "id": "lDOso0FQHkWG",
        "outputId": "aa4197fb-e79d-4325-aa6e-a4eadaa68b9e"
      },
      "source": [
        "x = [-1, 0, 1, 2, 3, 4]\n",
        "y = [-3, -1, 1, 3, 5, 7]\n",
        "\n",
        "#vamos supor que o modelo é linear e estimar uma curva que encaixe o Y em função do valor de X\n",
        "# y = a * x + b\n",
        "\n",
        "a = 3\n",
        "b = -2\n",
        "\n",
        "#vamos armazenar os dados estimados para comparação posterior\n",
        "Y_estimado = []\n",
        "\n",
        "for item in x:\n",
        "  Y_calculado = a*item+b\n",
        "  Y_estimado.append(Y_calculado)\n",
        "\n",
        "print('Y real:', y)\n",
        "\n",
        "print('Y estimado:', Y_estimado)\n",
        "\n",
        "# vamos definir a função de erro como sendo a diferença entre o Y que desejamos e o que calculamos\n",
        "# vamos somar o erro de cada par de Y (calculado e esperado) para medir a precisão do modelo\n",
        "# como podemos ter valores positivos e negativos, vamos elevar todas diferenças ao quadrado para evitar este inconveniente\n",
        "\n",
        "erro_quadratico_total = 0\n",
        "for i in range(0,len(y)):\n",
        "  erro_quadratico = (y[i] - Y_estimado[i])**2\n",
        "  erro_quadratico_total = erro_quadratico_total + erro_quadratico\n",
        "\n",
        "print('Erro quadratico total ', str(math.sqrt(erro_quadratico_total)))"
      ],
      "execution_count": 2,
      "outputs": [
        {
          "output_type": "stream",
          "text": [
            "Y real: [-3, -1, 1, 3, 5, 7]\n",
            "Y estimado: [-5, -2, 1, 4, 7, 10]\n",
            "Erro quadratico total  4.358898943540674\n"
          ],
          "name": "stdout"
        }
      ]
    }
  ]
}