{
  "nbformat": 4,
  "nbformat_minor": 0,
  "metadata": {
    "colab": {
      "name": "teste-inova-mind-1.ipynb",
      "provenance": [],
      "authorship_tag": "ABX9TyOvZAPoKUEivbQsTDwelRuV",
      "include_colab_link": true
    },
    "kernelspec": {
      "name": "python3",
      "display_name": "Python 3"
    }
  },
  "cells": [
    {
      "cell_type": "markdown",
      "metadata": {
        "id": "view-in-github",
        "colab_type": "text"
      },
      "source": [
        "<a href=\"https://colab.research.google.com/github/ferris77/my_notebooks/blob/main/python_tests/teste_inova_mind_1.ipynb\" target=\"_parent\"><img src=\"https://colab.research.google.com/assets/colab-badge.svg\" alt=\"Open In Colab\"/></a>"
      ]
    },
    {
      "cell_type": "code",
      "metadata": {
        "id": "peLZa5SbpVps"
      },
      "source": [
        "def validar_sequencia(arg):\n",
        "  \"\"\"Método para ler uma sequencia de strings to tipo [ { ( e retornar se esta\n",
        "  sequencia é válida ou não. Sequências válidas são as que todas as chaves, \n",
        "  parênteses e colchetes fecham corretamente.\n",
        "\n",
        "  Args:\n",
        "        arg (str) -> string com a sequência de caracteres que queremos testar\n",
        "\n",
        "  Return:\n",
        "        print uma mensagem de sequência válida ou inválida\n",
        "  \"\"\"\n",
        "  \n",
        "  #calcula se a diferença entre abre / fecha é zero\n",
        "  \n",
        "  check_chaves = arg.count('{') - arg.count('}')\n",
        "  check_colchetes = arg.count('[') - arg.count(']')\n",
        "  check_parenteses = arg.count('(') - arg.count(')')\n",
        "\n",
        "  #Se a quantidade de pares de um item for igual, a sequência será válida\n",
        "\n",
        "  if ((check_chaves == 0) and (check_colchetes == 0) and (check_parenteses == 0)):\n",
        "    return \"Sequência válida!\"\n",
        "  else:\n",
        "    return \"Sequência inválida!\"    \n",
        "   "
      ],
      "execution_count": null,
      "outputs": []
    },
    {
      "cell_type": "code",
      "metadata": {
        "colab": {
          "base_uri": "https://localhost:8080/"
        },
        "id": "OCxjKT2Wvwds",
        "outputId": "532507c0-88b1-4feb-f79c-b82061d7b5df"
      },
      "source": [
        "import time\n",
        "\n",
        "def check_results():\n",
        "  \"\"\"Função para testar o código\n",
        "  Vamos definir algumas sequências e enviar para teste.\n",
        "\n",
        "  Args:\n",
        "        None\n",
        "  Return:\n",
        "        None  \n",
        "  \"\"\"\n",
        "  start_time = time.time()\n",
        "\n",
        "  #1 a 5 são sequências válidas, 6 a 10 não\n",
        "\n",
        "  string_1 = '()([])'\n",
        "  string_2 = '{}()()'\n",
        "  string_3 = '[[[[]]]]'\n",
        "  string_4 = '{{{{{{}}}}}}'\n",
        "  string_5 = '([{([{)]})]}'\n",
        "  string_6 = '('\n",
        "  string_7 = '[[[[[[[[[['\n",
        "  string_8 = '((((((((()){{{{{{{{{[[[['\n",
        "  string_9 = '[][][][][][[]'\n",
        "  string_10 = '{}{}{}{}{}{}{}{}}}}}}}}}'\n",
        "\n",
        "  assert validar_sequencia(string_1) == 'Sequência válida!'\n",
        "  assert validar_sequencia(string_2) == 'Sequência válida!'\n",
        "  assert validar_sequencia(string_3) == 'Sequência válida!'\n",
        "  assert validar_sequencia(string_4) == 'Sequência válida!'\n",
        "  assert validar_sequencia(string_5) == 'Sequência válida!'\n",
        "  assert validar_sequencia(string_6) == 'Sequência inválida!'\n",
        "  assert validar_sequencia(string_7) == 'Sequência inválida!'\n",
        "  assert validar_sequencia(string_8) == 'Sequência inválida!'\n",
        "  assert validar_sequencia(string_9) == 'Sequência inválida!'\n",
        "  assert validar_sequencia(string_10) == 'Sequência inválida!'\n",
        "\n",
        "  print('Testes ok!')\n",
        "  print(f'{(time.time() - start_time):2f} segundos para executar')\n",
        "\n",
        "check_results()"
      ],
      "execution_count": null,
      "outputs": [
        {
          "output_type": "stream",
          "text": [
            "Testes ok!\n",
            "0.000608 segundos para executar\n"
          ],
          "name": "stdout"
        }
      ]
    }
  ]
}