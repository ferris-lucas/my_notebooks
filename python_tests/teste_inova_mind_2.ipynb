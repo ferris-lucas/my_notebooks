{
  "nbformat": 4,
  "nbformat_minor": 0,
  "metadata": {
    "colab": {
      "name": "teste-inova-mind-2.ipynb",
      "provenance": [],
      "authorship_tag": "ABX9TyOBKCKp8MJIHic32w4BCDXR",
      "include_colab_link": true
    },
    "kernelspec": {
      "name": "python3",
      "display_name": "Python 3"
    }
  },
  "cells": [
    {
      "cell_type": "markdown",
      "metadata": {
        "id": "view-in-github",
        "colab_type": "text"
      },
      "source": [
        "<a href=\"https://colab.research.google.com/github/ferris77/my_notebooks/blob/main/python_tests/teste_inova_mind_2.ipynb\" target=\"_parent\"><img src=\"https://colab.research.google.com/assets/colab-badge.svg\" alt=\"Open In Colab\"/></a>"
      ]
    },
    {
      "cell_type": "code",
      "metadata": {
        "id": "LQixypp3jAVK"
      },
      "source": [
        "import pandas as pd\n",
        "\n",
        "def ano_mais_trabalhado(arg):\n",
        "  \"\"\"Método para calcular em qual ano houve mais pessoas trbalhando.\n",
        "\n",
        "  Args:\n",
        "        arg (lista) -> [[x1, y1], [x2, y2], ..., [xn, yn]]\n",
        "        x é o ano de início, inclusive\n",
        "        y é o ano de término, inclusive\n",
        "\n",
        "  Return:\n",
        "        print a informação do ano mais trabalhado e quantidade de trabalhadores\n",
        "        no referido ano\n",
        "        caso haja mais de um ano com o mesmo valor máximo, imprime várias vezes\n",
        "  \"\"\"\n",
        "\n",
        "  matriz_dados = arg\n",
        "\n",
        "  #converte os pares de anos x / y em intervalos\n",
        "\n",
        "  lista_anos = []\n",
        "  for x in range(len(matriz_dados)): \n",
        "    #adiciona a cada linha de lista_anos o range correspondente ao interfalo XY\n",
        "    lista_anos.append(list(range(matriz_dados[x][0], matriz_dados[x][1]+1)))\n",
        "\n",
        "  df = pd.DataFrame(matriz_dados, columns=['X', 'Y'])\n",
        "  df[\"anos_trabalhados\"] = lista_anos\n",
        "\n",
        "  #explode a coluna anos_trabalhados, cada ano fica em uma linha\n",
        "\n",
        "  df = df.explode('anos_trabalhados')\n",
        "  \n",
        "  #filtra a coluna anos_trabalhados considerando anos únicos e frequência\n",
        "  #a lista já está na ordem decrescente\n",
        "\n",
        "  df = df.anos_trabalhados.value_counts().to_frame()\n",
        "\n",
        "  #passa por toda coluna e compara o primeiro item (ano mais frequente) com os\n",
        "  #próximo, para o caso de haver mais de um ano com frequência máxima\n",
        "  \n",
        "  for x in range(len(df.index)):\n",
        "    if (df.iloc[x][0]) == df.iloc[0][0]:\n",
        "      print(f\"O ano com mais pessoas trabalhando foi {df.index.tolist()[x]}\" + \n",
        "      f\" com um total de {df.iloc[x][0]} pessoas.\")"
      ],
      "execution_count": null,
      "outputs": []
    },
    {
      "cell_type": "code",
      "metadata": {
        "id": "veo43uSAm7Lz",
        "colab": {
          "base_uri": "https://localhost:8080/",
          "height": 204
        },
        "outputId": "63bf822f-01dc-40f4-df3d-863f700ff6b1"
      },
      "source": [
        "#usa uma base de dados criada para testar\n",
        "\n",
        "uri = \"https://raw.githubusercontent.com/ferris77/testes/aff512f984e9379e9ce7a7b40b8f95b9cf9c5607/dados_para_teste.csv\"\n",
        "\n",
        "dados_teste = pd.read_csv(uri)\n",
        "\n",
        "dados_teste.head()"
      ],
      "execution_count": null,
      "outputs": [
        {
          "output_type": "execute_result",
          "data": {
            "text/html": [
              "<div>\n",
              "<style scoped>\n",
              "    .dataframe tbody tr th:only-of-type {\n",
              "        vertical-align: middle;\n",
              "    }\n",
              "\n",
              "    .dataframe tbody tr th {\n",
              "        vertical-align: top;\n",
              "    }\n",
              "\n",
              "    .dataframe thead th {\n",
              "        text-align: right;\n",
              "    }\n",
              "</style>\n",
              "<table border=\"1\" class=\"dataframe\">\n",
              "  <thead>\n",
              "    <tr style=\"text-align: right;\">\n",
              "      <th></th>\n",
              "      <th>X</th>\n",
              "      <th>Y</th>\n",
              "    </tr>\n",
              "  </thead>\n",
              "  <tbody>\n",
              "    <tr>\n",
              "      <th>0</th>\n",
              "      <td>1950</td>\n",
              "      <td>2000</td>\n",
              "    </tr>\n",
              "    <tr>\n",
              "      <th>1</th>\n",
              "      <td>1986</td>\n",
              "      <td>2016</td>\n",
              "    </tr>\n",
              "    <tr>\n",
              "      <th>2</th>\n",
              "      <td>1987</td>\n",
              "      <td>2014</td>\n",
              "    </tr>\n",
              "    <tr>\n",
              "      <th>3</th>\n",
              "      <td>1960</td>\n",
              "      <td>2003</td>\n",
              "    </tr>\n",
              "    <tr>\n",
              "      <th>4</th>\n",
              "      <td>1956</td>\n",
              "      <td>2012</td>\n",
              "    </tr>\n",
              "  </tbody>\n",
              "</table>\n",
              "</div>"
            ],
            "text/plain": [
              "      X     Y\n",
              "0  1950  2000\n",
              "1  1986  2016\n",
              "2  1987  2014\n",
              "3  1960  2003\n",
              "4  1956  2012"
            ]
          },
          "metadata": {
            "tags": []
          },
          "execution_count": 48
        }
      ]
    },
    {
      "cell_type": "code",
      "metadata": {
        "colab": {
          "base_uri": "https://localhost:8080/"
        },
        "id": "kgUy7pKRzMZd",
        "outputId": "8fc29175-b797-45be-c4f6-98cbac68ca9b"
      },
      "source": [
        "ano_mais_trabalhado(dados_teste.values.tolist())"
      ],
      "execution_count": null,
      "outputs": [
        {
          "output_type": "stream",
          "text": [
            "O ano com mais pessoas trabalhando foi 2000 com um total de 50 pessoas.\n"
          ],
          "name": "stdout"
        }
      ]
    }
  ]
}