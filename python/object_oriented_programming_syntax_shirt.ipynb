{
  "nbformat": 4,
  "nbformat_minor": 0,
  "metadata": {
    "colab": {
      "name": "object-oriented-programming-syntax-shirt.ipynb",
      "provenance": [],
      "authorship_tag": "ABX9TyOXpZeOGGsLWBwSijtFO8jA",
      "include_colab_link": true
    },
    "kernelspec": {
      "name": "python3",
      "display_name": "Python 3"
    }
  },
  "cells": [
    {
      "cell_type": "markdown",
      "metadata": {
        "id": "view-in-github",
        "colab_type": "text"
      },
      "source": [
        "<a href=\"https://colab.research.google.com/github/ferris77/my_notebooks/blob/main/python/object_oriented_programming_syntax_shirt.ipynb\" target=\"_parent\"><img src=\"https://colab.research.google.com/assets/colab-badge.svg\" alt=\"Open In Colab\"/></a>"
      ]
    },
    {
      "cell_type": "code",
      "metadata": {
        "id": "OD-BEctqDU6_"
      },
      "source": [
        "class Shirt:\n",
        "  def __init__(self, shirt_color, shirt_size, shirt_style, shirt_price):\n",
        "    self.color = shirt_color\n",
        "    self.size = shirt_size\n",
        "    self.style = shirt_style\n",
        "    self.price = shirt_price\n",
        "\n",
        "  def change_price(self, new_price):\n",
        "    self.price = new_price\n",
        "  \n",
        "  def discount(self, discount):\n",
        "    return self.price*(1-discount)"
      ],
      "execution_count": null,
      "outputs": []
    },
    {
      "cell_type": "code",
      "metadata": {
        "id": "IztE3NQdEC2D"
      },
      "source": [
        "new_shirt = Shirt('red', 'S', 'short sleeve', 15)"
      ],
      "execution_count": null,
      "outputs": []
    },
    {
      "cell_type": "code",
      "metadata": {
        "colab": {
          "base_uri": "https://localhost:8080/"
        },
        "id": "Y0Jld3k6ELRt",
        "outputId": "8b309cbd-9f22-42c5-f73e-a50afac36e1d"
      },
      "source": [
        "print(new_shirt.color)\n",
        "print(new_shirt.size)\n",
        "print(new_shirt.style)\n",
        "print(new_shirt.price)"
      ],
      "execution_count": null,
      "outputs": [
        {
          "output_type": "stream",
          "text": [
            "red\n",
            "S\n",
            "short sleeve\n",
            "15\n"
          ],
          "name": "stdout"
        }
      ]
    },
    {
      "cell_type": "code",
      "metadata": {
        "colab": {
          "base_uri": "https://localhost:8080/"
        },
        "id": "UDeD1L6RERyz",
        "outputId": "1d3c1ea2-1404-4a07-cfb5-4c8abd4504ca"
      },
      "source": [
        "new_shirt.change_price(10)\n",
        "print(new_shirt.price)"
      ],
      "execution_count": null,
      "outputs": [
        {
          "output_type": "stream",
          "text": [
            "10\n"
          ],
          "name": "stdout"
        }
      ]
    },
    {
      "cell_type": "code",
      "metadata": {
        "colab": {
          "base_uri": "https://localhost:8080/"
        },
        "id": "0xM3b8DiE8Ot",
        "outputId": "6e000105-4d23-4f07-e41f-e741e4136fa5"
      },
      "source": [
        "print(new_shirt.discount(0.2))"
      ],
      "execution_count": null,
      "outputs": [
        {
          "output_type": "stream",
          "text": [
            "8.0\n"
          ],
          "name": "stdout"
        }
      ]
    },
    {
      "cell_type": "code",
      "metadata": {
        "colab": {
          "base_uri": "https://localhost:8080/"
        },
        "id": "iKOmCt8iFGZE",
        "outputId": "74ad75d3-ccb5-458a-b9dd-044a1fd2df97"
      },
      "source": [
        "tshirt_collection = []\n",
        "shirt_one = Shirt('orange', 'M', 'short sleeve', 455)\n",
        "shirt_two = Shirt('blue', 'S', 'long sleeve', 252)\n",
        "shirt_three = Shirt('green', 'XL', 'short sleeve', 2150)\n",
        "\n",
        "tshirt_collection.append(shirt_one)\n",
        "tshirt_collection.append(shirt_two)\n",
        "tshirt_collection.append(shirt_three)\n",
        "\n",
        "for i in range(len(tshirt_collection)):\n",
        "  print(tshirt_collection[i].price)"
      ],
      "execution_count": null,
      "outputs": [
        {
          "output_type": "stream",
          "text": [
            "455\n",
            "252\n",
            "2150\n"
          ],
          "name": "stdout"
        }
      ]
    },
    {
      "cell_type": "code",
      "metadata": {
        "id": "mDXKXmjvFhsn"
      },
      "source": [
        "def run_tests(tshirt_collection):\n",
        "  assert tshirt_collection[0].price == 455\n",
        "  assert tshirt_collection[1].price == 252\n",
        "  assert tshirt_collection[2].price == 2150\n",
        "\n",
        "run_tests(tshirt_collection)"
      ],
      "execution_count": null,
      "outputs": []
    },
    {
      "cell_type": "markdown",
      "metadata": {
        "id": "QHmf2qJ3K7T5"
      },
      "source": [
        "# Nova seção"
      ]
    },
    {
      "cell_type": "code",
      "metadata": {
        "id": "IQ0GNi0yKgVj"
      },
      "source": [
        ""
      ],
      "execution_count": null,
      "outputs": []
    },
    {
      "cell_type": "code",
      "metadata": {
        "id": "eT_IzBTVKSzT"
      },
      "source": [
        ""
      ],
      "execution_count": null,
      "outputs": []
    }
  ]
}