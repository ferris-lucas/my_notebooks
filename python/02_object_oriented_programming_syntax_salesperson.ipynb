{
  "nbformat": 4,
  "nbformat_minor": 0,
  "metadata": {
    "colab": {
      "name": "02-object-oriented-programming-syntax-salesperson.ipynb",
      "provenance": [],
      "authorship_tag": "ABX9TyNHGwBAEaNeZcFbSCl3XyXV",
      "include_colab_link": true
    },
    "kernelspec": {
      "name": "python3",
      "display_name": "Python 3"
    }
  },
  "cells": [
    {
      "cell_type": "markdown",
      "metadata": {
        "id": "view-in-github",
        "colab_type": "text"
      },
      "source": [
        "<a href=\"https://colab.research.google.com/github/ferris77/my_notebooks/blob/main/python/02_object_oriented_programming_syntax_salesperson.ipynb\" target=\"_parent\"><img src=\"https://colab.research.google.com/assets/colab-badge.svg\" alt=\"Open In Colab\"/></a>"
      ]
    },
    {
      "cell_type": "markdown",
      "metadata": {
        "id": "U-8y-dF6RWO4"
      },
      "source": [
        "This colab was made as part of one the OOP with Python during the Machine Learning Engineer Nanodegree. It creates one new class for the previous example.\n",
        "\n",
        "*  Student: Lucas Ferreira\n",
        "*  Date: Feb/2021"
      ]
    },
    {
      "cell_type": "code",
      "metadata": {
        "id": "UTVF44lekq4E"
      },
      "source": [
        "class Pants:\n",
        "  def __init__(self, color: str, waist_size: int, length: int, price: float):\n",
        "    self.color = color\n",
        "    self.waist_size = waist_size\n",
        "    self.length = length\n",
        "    self.price = price\n",
        "  \n",
        "  def change_price(self, new_price: float):\n",
        "    self.price = new_price\n",
        "\n",
        "  def discount(self, discount: float):\n",
        "    return self.price*(1-discount)"
      ],
      "execution_count": null,
      "outputs": []
    },
    {
      "cell_type": "code",
      "metadata": {
        "id": "CSyVdw0Vkzr6",
        "colab": {
          "base_uri": "https://localhost:8080/"
        },
        "outputId": "74eb0b6d-06e1-446a-b503-1bd71e2dbddc"
      },
      "source": [
        "def check_results():\n",
        "    pants = Pants('red', 35, 36, 15.12)\n",
        "    assert pants.color == 'red'\n",
        "    assert pants.waist_size == 35\n",
        "    assert pants.length == 36\n",
        "    assert pants.price == 15.12\n",
        "    \n",
        "    pants.change_price(10) == 10\n",
        "    assert pants.price == 10 \n",
        "    \n",
        "    assert pants.discount(.1) == 9\n",
        "    \n",
        "    print('You made it to the end of the check. Nice job!')\n",
        "\n",
        "check_results()"
      ],
      "execution_count": null,
      "outputs": [
        {
          "output_type": "stream",
          "text": [
            "You made it to the end of the check. Nice job!\n"
          ],
          "name": "stdout"
        }
      ]
    },
    {
      "cell_type": "code",
      "metadata": {
        "colab": {
          "base_uri": "https://localhost:8080/"
        },
        "id": "TGVdfIitkp9v",
        "outputId": "7507e5d4-ccfc-4c00-d0c1-b371c72d460c"
      },
      "source": [
        "def check_results():\n",
        "    pants = Pants('red', 35, 36, 15.12)\n",
        "    assert pants.color == 'red'\n",
        "    assert pants.waist_size == 35\n",
        "    assert pants.length == 36\n",
        "    assert pants.price == 15.12\n",
        "    \n",
        "    pants.change_price(10) == 10\n",
        "    assert pants.price == 10 \n",
        "    \n",
        "    assert pants.discount(.1) == 9\n",
        "    \n",
        "    print('You made it to the end of the check. Nice job!')\n",
        "\n",
        "check_results()"
      ],
      "execution_count": null,
      "outputs": [
        {
          "output_type": "stream",
          "text": [
            "You made it to the end of the check. Nice job!\n"
          ],
          "name": "stdout"
        }
      ]
    },
    {
      "cell_type": "code",
      "metadata": {
        "id": "29_ubYOBP7RY"
      },
      "source": [
        "class SalesPerson:\n",
        "  def __init__(self, first_name: str, last_name: str, employee_id: int, \n",
        "               salary: float, pants_sold = [], total_sales = 0.0):\n",
        "    self.first_name = first_name\n",
        "    self.last_name = last_name\n",
        "    self.employee_id = employee_id\n",
        "    self.salary = salary\n",
        "    self.pants_sold = pants_sold\n",
        "    self.total_sales = total_sales\n",
        "    \n",
        "  def sell_pants(self, pants):\n",
        "    self.pants_sold.append(pants)\n",
        "  \n",
        "  def display_sales(self):\n",
        "    for pants in self.pants_sold:\n",
        "        print(f'color: {pants.color}, waist size: {pants.waist_size}, price: {pants.length, pants.price}, ')\n",
        "  \n",
        "  def calculate_sales(self):\n",
        "    total = 0.0\n",
        "    for i in range(len(self.pants_sold)):\n",
        "      total = total + self.pants_sold[i].price\n",
        "    return total\n",
        "\n",
        "  def calculate_commission(self, percentage: float):\n",
        "    total = 0.0\n",
        "    for i in range(len(self.pants_sold)):\n",
        "      total = total + self.pants_sold[i].price\n",
        "    return total*(percentage)"
      ],
      "execution_count": null,
      "outputs": []
    },
    {
      "cell_type": "code",
      "metadata": {
        "id": "JQ60CdZoUhYJ"
      },
      "source": [
        "def check_results():\n",
        "    pants_one = Pants('red', 35, 36, 15.12)\n",
        "    pants_two = Pants('blue', 40, 38, 24.12)\n",
        "    pants_three = Pants('tan', 28, 30, 8.12)\n",
        "    \n",
        "    salesperson = SalesPerson('Amy', 'Gonzalez', 2581923, 40000)\n",
        "    \n",
        "    assert salesperson.first_name == 'Amy'\n",
        "    assert salesperson.last_name == 'Gonzalez'\n",
        "    assert salesperson.employee_id == 2581923\n",
        "    assert salesperson.salary == 40000\n",
        "    assert salesperson.pants_sold == []\n",
        "    assert salesperson.total_sales == 0\n",
        "    \n",
        "    salesperson.sell_pants(pants_one)\n",
        "    salesperson.pants_sold[0] == pants_one.color\n",
        "    \n",
        "    salesperson.sell_pants(pants_two)\n",
        "    salesperson.sell_pants(pants_three)\n",
        "    \n",
        "    assert len(salesperson.pants_sold) == 3\n",
        "    assert round(salesperson.calculate_sales(),2) == 47.36\n",
        "    assert round(salesperson.calculate_commission(.1),2) == 4.74\n",
        "    \n",
        "    print('Great job, you made it to the end of the code checks!')\n",
        "    \n",
        "check_results()"
      ],
      "execution_count": null,
      "outputs": []
    },
    {
      "cell_type": "code",
      "metadata": {
        "id": "uaQnRZDGknIq"
      },
      "source": [
        "pants_one = Pants('red', 35, 36, 15.12)\n",
        "pants_two = Pants('blue', 40, 38, 24.12)\n",
        "pants_three = Pants('tan', 28, 30, 8.12)\n",
        "\n",
        "salesperson = SalesPerson('Amy', 'Gonzalez', 2581923, 40000)\n",
        "\n",
        "salesperson.sell_pants(pants_one)    \n",
        "salesperson.sell_pants(pants_two)\n",
        "salesperson.sell_pants(pants_three)\n",
        "\n",
        "salesperson.display_sales()"
      ],
      "execution_count": null,
      "outputs": []
    }
  ]
}